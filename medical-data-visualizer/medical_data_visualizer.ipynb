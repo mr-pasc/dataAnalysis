{
 "cells": [
  {
   "cell_type": "code",
   "execution_count": null,
   "metadata": {},
   "outputs": [],
   "source": [
    "import pandas as pd\n",
    "import seaborn as sns\n",
    "import matplotlib.pyplot as plt\n",
    "import numpy as np"
   ]
  },
  {
   "cell_type": "code",
   "execution_count": null,
   "metadata": {},
   "outputs": [],
   "source": [
    "# Import data\n",
    "df = pd.read_csv('medical_examination.csv')\n",
    "\n",
    "# Add 'overweight' column\n",
    "df['overweight'] = df['weight'] / (df['height'] / 100)**2\n",
    "df[df[['overweight']] < 25] = 0\n",
    "df[df[['overweight']] > 25] = 1"
   ]
  },
  {
   "cell_type": "code",
   "execution_count": null,
   "metadata": {},
   "outputs": [],
   "source": [
    "# Normalize data by making 0 always good and 1 always bad. If the value of 'cholesterol' or 'gluc' is 1, make the value 0. If the value is more than 1, make the value 1.\n",
    "\n",
    "#norm cholesterol & glucose\n",
    "df[df[['cholesterol', 'gluc']] == 1] = 0\n",
    "df[df[['cholesterol', 'gluc']] > 1] = 1"
   ]
  },
  {
   "cell_type": "code",
   "execution_count": null,
   "metadata": {},
   "outputs": [],
   "source": [
    "# Draw Categorical Plot\n",
    "def draw_cat_plot():\n",
    "    # Create DataFrame for cat plot using `pd.melt` using just the values from 'cholesterol', 'gluc', 'smoke', 'alco', 'active', and 'overweight'.\n",
    "    value_vars = list(df.columns)[7:12]\n",
    "    id_vars = list(df.columns)[12]\n",
    "    df_cat = df.melt(id_vars = id_vars,\n",
    "                value_vars = value_vars)\n",
    "\n",
    "    # Group and reformat the data to split it by 'cardio'. Show the counts of each feature. You will have to rename one of the columns for the catplot to work correctly.\n",
    "    # Draw the catplot with 'sns.catplot()'\n",
    "    fig = sns.catplot(x=\"variable\", hue=\"value\",\n",
    "                col=\"cardio\", data=df_cat, kind=\"count\",\n",
    "                height=5, aspect=.8)\n",
    "    # Do not modify the next two lines\n",
    "    fig.savefig('catplot.png')\n",
    "    return fig"
   ]
  },
  {
   "cell_type": "code",
   "execution_count": null,
   "metadata": {},
   "outputs": [],
   "source": [
    "# Draw Heat Map\n",
    "def draw_heat_map():\n",
    "    # Clean the data\n",
    "    df_heat = df[df['ap_lo'] <= df['ap_hi']]\n",
    "    df_heat = df_heat[df_heat['height'] >= df_heat['height'].quantile(0.025)]\n",
    "    df_heat = df_heat[df_heat['height'] <= df_heat['height'].quantile(0.975)]\n",
    "    df_heat = df_heat[df_heat['weight'] >= df_heat['weight'].quantile(0.025)]\n",
    "    df_heat = df_heat[df_heat['weight'] <= df_heat['weight'].quantile(0.975)]\n",
    "\n",
    "\n",
    "    # Calculate the correlation matrix\n",
    "    corr = df_heat.corr()\n",
    "\n",
    "    # Generate a mask for the upper triangle\n",
    "    mask = np.triu(np.ones_like(corr, dtype=bool))\n",
    "\n",
    "    # Set up the matplotlib figure\n",
    "    fig, ax = plt.subplots(figsize=(11, 9))\n",
    "\n",
    "    # Draw the heatmap with 'sns.heatmap()'\n",
    "    sns.heatmap(corr, mask=mask, annot=True, square=True, fmt='.1f', center=0, vmax= 0.24, vmin=-0.08)\n",
    "\n",
    "    # Do not modify the next two lines\n",
    "    fig.savefig('heatmap.png')\n",
    "    return fig"
   ]
  }
 ],
 "metadata": {
  "language_info": {
   "name": "python"
  },
  "orig_nbformat": 4
 },
 "nbformat": 4,
 "nbformat_minor": 2
}
